{
  "nbformat": 4,
  "nbformat_minor": 0,
  "metadata": {
    "colab": {
      "private_outputs": true,
      "provenance": []
    },
    "kernelspec": {
      "name": "python3",
      "display_name": "Python 3"
    },
    "language_info": {
      "name": "python"
    }
  },
  "cells": [
    {
      "cell_type": "markdown",
      "source": [
        "**1.  What are data structures, and why are they important?**\n",
        "\n",
        "* Data structures or objects are ways of organising and storing data in such a way that it can be accessed easily and manipulated efficiently.\n",
        "\n",
        "* They are important:\n",
        "  - Stores data in an organised way\n",
        "  - We can easily access and manipulate data\n",
        "  - Saves time while finding data\n",
        "  - Saves memory too\n",
        "  - Easy to handle huge data"
      ],
      "metadata": {
        "id": "nVZqfuJFTR-x"
      }
    },
    {
      "cell_type": "markdown",
      "source": [
        "**2.  Explain the difference between mutable and immutable data types with examples?**\n",
        "\n",
        "* MUTABLE DATA TYPES:\n",
        "  - Objects that can be manipulated/updated/changed after it's creation are known as mutable data types.\n",
        "  - No new object is formed after updation, changes happen in the same object.\n",
        "  - examples: List, set, dictionary, dataframes etc.\n",
        "\n",
        "* IMMUTABLE DATA TYPES:\n",
        "  - Unlike mutable objects, immutable data types can't be updated after it's creation.\n",
        "  - if we modify them then a new object is formed at a new memory location, older object remains the same, no change happens.\n",
        "  - Examples: tuple, string, float etc   "
      ],
      "metadata": {
        "id": "5A3iDqxVOSPg"
      }
    },
    {
      "cell_type": "markdown",
      "source": [
        "**3.What are the main differences between lists and tuples in Python?**\n",
        "\n",
        "* TUPLE:\n",
        "  - They are formed using () parenthesis only.\n",
        "  - They are immutable in nature.\n",
        "  - Used when data needs to be fixed, unchangeable.\n",
        "  - Offers little less functions as compared to lists.\n",
        "  - example: (1,True, \"shivansh\")\n",
        "\n",
        "* LIST:\n",
        "  - List can be formed using [] square brackets only.\n",
        "  - Unlike tuples they are mutable in nature.\n",
        "  - Used when data needs to be manipulated frequently.\n",
        "  - unlike tuples it offers many functions, with some additional functions too, like .append() etc\n",
        "  - example: [1,True, \"shivansh\"]"
      ],
      "metadata": {
        "id": "tkN6Y929Rqm6"
      }
    },
    {
      "cell_type": "markdown",
      "source": [
        "**4.  Describe how dictionaries store data?**\n",
        "* Dictionary stores data in the for of \"KEY:VALUE\" pair, which makes it more informative as we get to know which element of the dictionary is representing which type of data.\n",
        "\n",
        "* Here keys are used to access data(elements) instead of index number, which makes easy to get a specific data. (# that's why keys must be unique)\n",
        "\n",
        "```\n",
        "*example:\n",
        "    individual_data = {\"Name\":\"Shivansh\",\"Age\",20,\"Phone no.\":8887774565,\"Address\":\"New delhi\"}\n",
        "\n",
        "    # Name, Age, Phone no., Address are keys\n",
        "    # shivansh, 20, 8887774565, new delhi are value\n",
        "    # we can access data using keys:\n",
        "      individual_data[\"Name\"]"
      ],
      "metadata": {
        "id": "Lrn1Hn_mUz1P"
      }
    },
    {
      "cell_type": "markdown",
      "source": [
        "**5. Why might you use a set instead of a list in Python?**\n",
        "\n",
        "*Set: It is a type of objects that contains unordered collection of unique data, indexing or slicing is not possible but it is mutable in nature.\n",
        "\n",
        "* we used set instead of list:\n",
        "  - To get only unique data/ value, removes duplicate value (list can hold duplicate data)\n",
        "  - To perform set operations like-union, intersection, difference, symmetric difference."
      ],
      "metadata": {
        "id": "nGj16mosXIZ4"
      }
    },
    {
      "cell_type": "markdown",
      "source": [
        "**6. What is a string in Python, and how is it different from a list?**\n",
        "\n",
        "* It is a data type that contains ordered collection of characters.\n",
        "\n",
        "* Unlike [list] string is enclosed within \"quotes\"\n",
        "* They only contain characters(text) unlike list which contains heterogenous data\n",
        "\n",
        "* String is immutable, list is mutable in nature\n",
        "\n",
        "* String has fuctions like .replace(), .upper(), .lower() while list has fuctions like append, inser, pop etc etc\n",
        "\n",
        "\n",
        "```\n",
        "stringg = \"this is a string example\"\n",
        "listt = [1,2,\"shivansh\",True,12.03]  #list example\n",
        "```\n"
      ],
      "metadata": {
        "id": "rALB16cfZuIN"
      }
    },
    {
      "cell_type": "markdown",
      "source": [
        "**7.  How do tuples ensure data integrity in Python?**\n",
        "\n",
        "* Since tuples are immutable in nature so, any changes can't be done even accidentally so this keeps data safe from any manipulation and data doesnot loses it's originality.\n",
        "\n",
        "* Also if two tuples are merged then a new tuple is formed which is different from the other two, having different hash value unlike the two merged tuples having different hash value.\n"
      ],
      "metadata": {
        "id": "-8d6Hhi5dYj_"
      }
    },
    {
      "cell_type": "markdown",
      "source": [
        "**8. What is a hash table, and how does it relate to dictionaries in Python?**\n",
        "\n",
        "*  It is is a type of data structure that stores value in key:value pair like in dictionary.\n",
        "* \"Hash\" function converts the key into index, index is the place where the actual value is stored (in memory location) which makes accessing data easy, you can retreive the data by using keys.\n",
        "* Dictionaries are practical implementation of hash tables."
      ],
      "metadata": {
        "id": "nnRLdGxfQzBX"
      }
    },
    {
      "cell_type": "markdown",
      "source": [
        "**9. Can lists contain different data types in Python?**\n",
        "\n",
        "* Yes, since list is an ordered collection of heterogenous data, it can store any data type str(\"shivansh), int(7), float(7.7), boolean(True), complex number (5j) etc etc.\n",
        "* Also it allows changes in these value if necessary and needed along with my more functions."
      ],
      "metadata": {
        "id": "16eecn6zknkG"
      }
    },
    {
      "cell_type": "markdown",
      "source": [
        "**10. Explain why strings are immutable in Python?**\n",
        "\n",
        "* In python strings are immutable in nature because you can only access it's elements using square bracket method/ indexing but you can't change its elements or manipulate it once it is created.\n",
        "* They have stable hash value (used as keys in dict.)\n",
        "* Helps in Data integrity\n"
      ],
      "metadata": {
        "id": "gtNf1BaolmJf"
      }
    },
    {
      "cell_type": "markdown",
      "source": [
        "**11. What advantages do dictionaries offer over lists for certain tasks?**\n",
        "\n",
        "* key advantage: Unlike list, dict stores data in key:value pair which make it more informative as it gives short description about the type of different value stored.\n",
        "* key advantage: Enables to access data using keys unlike list where we use index number, which makes it fast and easy.\n",
        "* like list it is ordred collection of heterogeneous data, iterable, mutable, has various other function too.\n"
      ],
      "metadata": {
        "id": "IvTd1jQJrFh_"
      }
    },
    {
      "cell_type": "markdown",
      "source": [
        "**12. Describe a scenario where using a tuple would be preferable over a list?**\n",
        "\n",
        "* Since the key difference betweeen list and tuple is the feature of immutability so, it also acts as a key advantage in some scenarios.\n",
        "\n",
        "* and also since it has stable hash value, it can be used as key in dictionary to access elements\n",
        "\n",
        "```\n",
        "*example:\n",
        "\n",
        "#example of date of birth, we can represent students name in tuple so that it can't be changes accidently and we don't forget to wish him happy bday.\n",
        "\n",
        "amit_bday = (01.12) #day,month\n",
        "rahul_bday = (12.11) #day,month\n",
        "shivansh_bday = (19.06) #day,month\n",
        "\n",
        "#we can also use it as key in dict to get to know who's bday is on specific day, by searching\n",
        "\n",
        "class_bday = {(01.12):\"amit_bday\",(12.11):\"rahul_bday\", (19.06):\"shivansh_bday\"}\n",
        "\n",
        "#now by entering day and month we can get to know who's bday is on specific day.\n",
        "```\n"
      ],
      "metadata": {
        "id": "luC3jGu_uH-y"
      }
    },
    {
      "cell_type": "markdown",
      "source": [
        "**13. How do sets handle duplicate values in Python?**\n",
        "\n",
        "*Sets simply gives unique elements, it removes the duplicate elements, so it becomes easy to get information about different values present in a data structure.\n",
        "\n",
        "```\n",
        "listt = [1,2,2,3,4,5,444]\n",
        "\n",
        "unique_elements = set(listt)\n",
        "\n",
        "#gives o/p 1,2,3,5,444 (order may be changed) only unique elements, duplicates are removed.\n",
        "```"
      ],
      "metadata": {
        "id": "CdSjFog0ycxG"
      }
    },
    {
      "cell_type": "markdown",
      "source": [
        "**14. How does the “in” keyword work differently for lists and dictionaries?**\n",
        "\n",
        "* \"in\" is a memebership operator used to find whether a value is present in the identifiers value or not.\n",
        "\n",
        "List -\n",
        "Here in operator checks whether a value is present inside the given list or not.\n",
        "```\n",
        "listt = [1,2,3,4,\"shivansh\"]\n",
        "\n",
        "\"shivansh\" in listt   #o/p True as value \"shivansh\" is present\n",
        "\n",
        "6 in listt  #o/p False as value 6 is not present in the list\n",
        "```\n",
        "\n",
        "Dictionaries -\n",
        "Here in operator checks whether the asked value is present in the dictionary  as \"key\" or not, value is not compared to value of the dict.  it is compared to key of the dict.\n",
        "\n",
        "```\n",
        "dictt = {\"a\":1,\"b\":2,\"c\":3,4:\"shivansh\"}\n",
        "\n",
        "\"a\" in dictt #o/p True as key \"a\" is present in dict ~ dictt\n",
        "1 in dictt  #o/p False as key 1 is not present in dict ~ dictt, but value 1 is present in the dictt\n",
        "4 in dictt  #o/p True as key 4 is present in dict ~ dictt\n",
        "\n",
        "\n"
      ],
      "metadata": {
        "id": "8No4r6t9z3ht"
      }
    },
    {
      "cell_type": "markdown",
      "source": [
        "**15. Can you modify the elements of a tuple? Explain why or why not?**\n",
        "\n",
        "* No, elements of tuple can't be modified, as they are immutable in nature having stable hash value. hence data can't be manipulated in tuples. Although when 2 tuples are merged, the new tuple has different hash value compare to the two tuples used to form new one.\n",
        "  - This makes tuple\n",
        "    - Safe to keep data (data integrity)\n",
        "    - Can be used as key in dictt (hashability)\n",
        "     \n",
        "\n"
      ],
      "metadata": {
        "id": "mg-gSwLL3JQu"
      }
    },
    {
      "cell_type": "markdown",
      "source": [
        "**16. What is a nested dictionary, and give an example of its use case?**\n",
        "\n",
        "* Nested dictionary means dictionary within (inside) another dictionary dictionary.\n",
        "* It's helps to store information in more organised and structured way.\n",
        "\n",
        "  - example: Storing employees information using their unique ID number.\n",
        "\n",
        " ```\n",
        " emp_info = {101:{\"Name\":\"Shivansh Yadav\", \"age\":29,\"address\":\"New Delhi\"}, 102:{\"Name\":\"Ramesh kumar\", \"age\":45,\"address\":\"Lucknow\"},103:{\"Name\":\"Raja\", \"age\":25,\"address\":\"Amethi\"}}\n",
        "\n",
        " emp_info[102]   o/p {'Name': 'Ramesh kumar', 'age': 45, 'address': 'Lucknow'}\n",
        "\n",
        "\n",
        " ```\n"
      ],
      "metadata": {
        "id": "Caz6ijpp5MgP"
      }
    },
    {
      "cell_type": "markdown",
      "source": [
        "**17. Describe the time complexity of accessing elements in a dictionary.**\n",
        "\n",
        "* In dictionary elements are accessed using key, which makes it easy and fast to access specific key's value unlike list where you have to find index no. and then search for the value which makes it little complex task.\n"
      ],
      "metadata": {
        "id": "LfKMaLdT_BGB"
      }
    },
    {
      "cell_type": "markdown",
      "source": [
        "**18. In what situations are lists preferred over dictionaries?**\n",
        "\n",
        "* Lists are preferred  over dictionaries when:\n",
        "  - When you want to access elements using index number.\n",
        "  - When you want to slice within the data structure values.\n",
        "  - When you want to store data without key-value pair or when you want to store same kind of data specified by the variable eg: all_employees = [\"shivansh\",\"raj\",\"amit\",\"rakesh\"]\n",
        "  - When you want to store duplicate data multiple times.\n",
        "  - when you want to iterate over the data.\n",
        "  - when you want to store data in specific order.\n",
        "  - when you wan to store data in-between\n",
        "   \n"
      ],
      "metadata": {
        "id": "UoZX_d9e_-xc"
      }
    },
    {
      "cell_type": "markdown",
      "source": [
        "**19. Why are dictionaries considered unordered, and how does that affect data retrieval?**\n",
        "\n",
        "* Dictionaries are considered unordered because:\n",
        "  - Data stored in key:value pair\n",
        "  - access elements only using keys, not index numbers\n",
        "  - we can insert data only by using index number  \n",
        "  - Can't store data in-between of the dictionary\n",
        "\n",
        "* Data retrieval:\n",
        "  - Makes fast and easy\n",
        "  - Access only using keys not index number\n",
        "  - can't access key's older value, only new value can be accessed"
      ],
      "metadata": {
        "id": "E-K98zeBCXzn"
      }
    },
    {
      "cell_type": "markdown",
      "source": [
        "**20. Explain the difference between a list and a dictionary in terms of data retrieval.**\n",
        "\n",
        "**List**\n",
        "  - Data is retrieved using index number\n",
        "  - Makes this little slow when data is huge\n",
        "  - Duplicate data can be accessed\n",
        "  \n",
        "**Dictionary**\n",
        "  - Data is retrieved using key\n",
        "  - Easy and fast to access data\n",
        "  - Can't access duplicate data"
      ],
      "metadata": {
        "id": "kuqq5gu1HC1L"
      }
    },
    {
      "cell_type": "markdown",
      "source": [
        "# Practical Questions"
      ],
      "metadata": {
        "id": "u8koYXYAJAMb"
      }
    },
    {
      "cell_type": "code",
      "source": [
        "#1: Write a code to create a string with your name and print it.\n",
        "\n",
        "stringg = \"Shivansh Yadav\"\n",
        "print(stringg)"
      ],
      "metadata": {
        "id": "Vs6pFBCC-WFV"
      },
      "execution_count": null,
      "outputs": []
    },
    {
      "cell_type": "code",
      "source": [
        "#2: Write a code to find the length of the string \"Hello World\".\n",
        "\n",
        "length = \"Hello World\"\n",
        "print(len(length))   #len() used to find lenth of string"
      ],
      "metadata": {
        "id": "6hSFFa7eTUdH"
      },
      "execution_count": null,
      "outputs": []
    },
    {
      "cell_type": "code",
      "source": [
        "#3: Write a code to slice the first 3 characters from the string \"Python Programming\".\n",
        "\n",
        "slice_msg = \"Python Programming\"\n",
        "print(slice_msg[0:3])"
      ],
      "metadata": {
        "id": "4DR6i75eT17_"
      },
      "execution_count": null,
      "outputs": []
    },
    {
      "cell_type": "code",
      "source": [
        "#4: Write a code to convert the string \"hello\" to uppercase.\n",
        "\n",
        "msg = \"hello\"\n",
        "print(msg.upper())  #.upper() -> converts into uppercase"
      ],
      "metadata": {
        "id": "wLUs72IlUNni"
      },
      "execution_count": null,
      "outputs": []
    },
    {
      "cell_type": "code",
      "source": [
        "#5: Write a code to replace the word \"apple\" with \"orange\" in the string \"I like apple\".\n",
        "\n",
        "word = \"I like apple\"\n",
        "update_word = word.replace(\"apple\",\"orange\")\n",
        "\n",
        "print(word)\n",
        "print(update_word)\n"
      ],
      "metadata": {
        "id": "VW7Hxl4yUf9x"
      },
      "execution_count": null,
      "outputs": []
    },
    {
      "cell_type": "code",
      "source": [
        "#6: Write a code to create a list with numbers 1 to 5 and print it.\n",
        "\n",
        "listt = []\n",
        "for i in range(1,6):\n",
        "  listt.append(i)\n",
        "\n",
        "print(listt)"
      ],
      "metadata": {
        "id": "VfpbAFSWVTAB"
      },
      "execution_count": null,
      "outputs": []
    },
    {
      "cell_type": "code",
      "source": [
        "#7: Write a code to append the number 10 to the list [1, 2, 3, 4].\n",
        "\n",
        "old_list = [1, 2, 3, 4]\n",
        "old_list.append(10)\n",
        "\n",
        "print(old_list)\n"
      ],
      "metadata": {
        "id": "ppGMdF6TVp0W"
      },
      "execution_count": null,
      "outputs": []
    },
    {
      "cell_type": "code",
      "source": [
        "#8: Write a code to remove the number 3 from the list [1, 2, 3, 4, 5].\n",
        "\n",
        "old_list = [1, 2, 3, 4, 5]\n",
        "old_list.remove(3)\n",
        "\n",
        "print(old_list)\n"
      ],
      "metadata": {
        "id": "a2U9VRZ5WPQx"
      },
      "execution_count": null,
      "outputs": []
    },
    {
      "cell_type": "code",
      "source": [
        "#9: Write a code to access the second element in the list ['a', 'b', 'c', 'd'].\n",
        "\n",
        "listt = ['a', 'b', 'c', 'd']\n",
        "\n",
        "print(listt[1])"
      ],
      "metadata": {
        "id": "pDHZCkUZWkld"
      },
      "execution_count": null,
      "outputs": []
    },
    {
      "cell_type": "code",
      "source": [
        "#10:  Write a code to reverse the list [10, 20, 30, 40, 50].\n",
        "\n",
        "listt = [10, 20, 30, 40, 50]\n",
        "reverse_list = sorted(listt, reverse=True)\n",
        "print(reverse_list)\n",
        "\n",
        "\n",
        "#or_anotherMethod\n",
        "\n",
        "\n",
        "r_list = []\n",
        "for i in listt:\n",
        "  r_list.insert(0,i)\n",
        "print(r_list)\n",
        "\n"
      ],
      "metadata": {
        "id": "Q4cdgRpTXC2x"
      },
      "execution_count": null,
      "outputs": []
    },
    {
      "cell_type": "code",
      "source": [
        "#11. Write a code to create a tuple with the elements 100, 200, 300 and print it.\n",
        "\n",
        "tuple_element = [100,200,300]\n",
        "tup = tuple(tuple_element)\n",
        "print(tup)\n",
        "print(type(tup))\n",
        "\n",
        "#or_simple\n",
        "\n",
        "\n",
        "values = 100,200,300\n",
        "\n",
        "new_tuple_object = tuple(values)\n",
        "print(new_tuple_object)\n",
        "print(type(new_tuple_object))"
      ],
      "metadata": {
        "id": "PE4oGHf5YsyO"
      },
      "execution_count": null,
      "outputs": []
    },
    {
      "cell_type": "code",
      "source": [
        "#12: Write a code to access the second-to-last element of the tuple ('red', 'green', 'blue', 'yellow').\n",
        "\n",
        "tuple1 =  ('red', 'green', 'blue', 'yellow')\n",
        "tuple1[1:] #following slicing method"
      ],
      "metadata": {
        "id": "qCDUcsG5eiYs"
      },
      "execution_count": null,
      "outputs": []
    },
    {
      "cell_type": "code",
      "source": [
        "#13: Write a code to find the minimum number in the tuple (10, 20, 5, 15).\n",
        "\n",
        "tuple1 =  (10, 20, 5, 15)\n",
        "\n",
        "minimum_num = min(tuple1)  #min() function is used to find minimum value in an object\n",
        "print(minimum_num)\n",
        "\n"
      ],
      "metadata": {
        "id": "XZ768edIhiAz"
      },
      "execution_count": null,
      "outputs": []
    },
    {
      "cell_type": "code",
      "source": [
        "#14: Write a code to find the index of the element \"cat\" in the tuple ('dog', 'cat', 'rabbit').\n",
        "\n",
        "tuple1 =  ('dog', 'cat', 'rabbit')\n",
        "\n",
        "tuple1.index(\"cat\")   #.index() is used to find the index number of the element\n"
      ],
      "metadata": {
        "id": "2jEB9sW9iJlX"
      },
      "execution_count": null,
      "outputs": []
    },
    {
      "cell_type": "code",
      "source": [
        "#15: Write a code to create a tuple containing three different fruits and check if \"kiwi\" is in it.\n",
        "\n",
        "fruits_list = (\"apple\",\"mango\",\"kiwi\")\n",
        "\n",
        "#converting it into tuple:\n",
        "\n",
        "fruit_tuple = tuple(fruits_list)\n",
        "print(fruit_tuple)\n",
        "\n",
        "#conditional statement:\n",
        "\n",
        "if \"kiwi\" in fruit_tuple:\n",
        "  print(\"kiwi is present in the tuple\")\n",
        "else:\n",
        "  print(\"kiwi is present in the tuple\")\n"
      ],
      "metadata": {
        "id": "mA6-4yTHib26"
      },
      "execution_count": null,
      "outputs": []
    },
    {
      "cell_type": "code",
      "source": [
        "#16: Write a code to create a set with the elements 'a', 'b', 'c' and print it.\n",
        "listt = [\"a\",\"b\",\"c\",\"c\",\"b\",\"b\"]\n",
        "\n",
        "#coverting it into tuple\n",
        "sett = set(listt)\n",
        "print(sett)\n",
        "print(type(sett))"
      ],
      "metadata": {
        "id": "WPc523SrjZLC"
      },
      "execution_count": null,
      "outputs": []
    },
    {
      "cell_type": "code",
      "source": [
        "#17: Write a code to clear all elements from the set {1, 2, 3, 4, 5}.\n",
        "sett =  {1, 2, 3, 4, 5}\n",
        "sett.clear() #clear function is used to clear all values from an object\n",
        "print(sett)  #shows sett has no value now"
      ],
      "metadata": {
        "id": "aCWSI2hWkX5a"
      },
      "execution_count": null,
      "outputs": []
    },
    {
      "cell_type": "code",
      "source": [
        "#18: Write a code to remove the element 4 from the set {1, 2, 3, 4}.\n",
        "\n",
        "sett =  {1, 2, 3, 4}\n",
        "\n",
        "sett.remove(4)  #remove function is used to remove an element from an object\n",
        "print(sett)\n",
        "\n",
        "\n"
      ],
      "metadata": {
        "id": "ysU5yMQFlQrx"
      },
      "execution_count": null,
      "outputs": []
    },
    {
      "cell_type": "code",
      "source": [
        "#19: Write a code to find the union of two sets {1, 2, 3} and {3, 4, 5}.\n",
        "\n",
        "set1 = {1,2,3}\n",
        "set2 = {3,4,5}\n",
        "\n",
        "#union of set\n",
        "\n",
        "union_set = set1|set2\n",
        "print(union_set)"
      ],
      "metadata": {
        "id": "6muQFnRuluRe"
      },
      "execution_count": null,
      "outputs": []
    },
    {
      "cell_type": "code",
      "source": [
        "#20: Write a code to find the intersection of two sets {1, 2, 3} and {2, 3, 4}.\n",
        "\n",
        "set1 = {1,2,3}\n",
        "set2 = {2,3,4}\n",
        "\n",
        "#intersection of set\n",
        "\n",
        "intersection_set = set1&set2\n",
        "print(intersection_set)"
      ],
      "metadata": {
        "id": "RLVi6mMAmBUg"
      },
      "execution_count": null,
      "outputs": []
    },
    {
      "cell_type": "code",
      "source": [
        "#21: Write a code to create a dictionary with the keys \"name\", \"age\", and \"city\", and print it.\n",
        "\n",
        "dictt = {\"name\":\"Shivansh\",\"age\":21,\"city\":\"Lucknow\"}\n",
        "print(dictt)\n",
        "print(type(dictt))"
      ],
      "metadata": {
        "id": "0mrwz8EhmZUC"
      },
      "execution_count": null,
      "outputs": []
    },
    {
      "cell_type": "code",
      "source": [
        "#22. Write a code to add a new key-value pair \"country\": \"USA\" to the dictionary {'name': 'John', 'age': 25}.\n",
        "dictionary = {'name': 'John', 'age': 25}\n",
        "\n",
        "#new_key_value_pair\n",
        "\n",
        "dictionary[\"country\"] = \"USA\"\n",
        "print(dictionary)   #value added o/p\n",
        "\n"
      ],
      "metadata": {
        "id": "W9JsgVPLpK3u"
      },
      "execution_count": null,
      "outputs": []
    },
    {
      "cell_type": "code",
      "source": [
        "#23: Write a code to access the value associated with the key \"name\" in the dictionary {'name': 'Alice', 'age': 30}.\n",
        "dictr = {'name': 'Alice', 'age': 30}\n",
        "print(dictr[\"name\"]) #way1\n",
        "dictr.get(\"name\") #way2"
      ],
      "metadata": {
        "id": "1iWfPCNupj1T"
      },
      "execution_count": null,
      "outputs": []
    },
    {
      "cell_type": "code",
      "source": [
        "#24: Write a code to remove the key \"age\" from the dictionary {'name': 'Bob', 'age': 22, 'city': 'New York'}.\n",
        "\n",
        "dictt = {'name': 'Bob', 'age': 22, 'city': 'New York'}\n",
        "\n",
        "del dictt[\"age\"]\n",
        "print(dictt)  #o/p doesnot contains key age"
      ],
      "metadata": {
        "id": "rEO_69MJp9dQ"
      },
      "execution_count": null,
      "outputs": []
    },
    {
      "cell_type": "code",
      "source": [
        "#25: Write a code to check if the key \"city\" exists in the dictionary {'name': 'Alice', 'city': 'Paris'}.\n",
        "\n",
        "dictt = {'name': 'Alice', 'city': 'Paris'}\n",
        "\n",
        "if \"city\" in dictt:\n",
        "  print(\"'City' key present in dictt\")\n",
        "else:\n",
        "  print(\"Not present\")"
      ],
      "metadata": {
        "id": "PQjxEsyErKMM"
      },
      "execution_count": null,
      "outputs": []
    },
    {
      "cell_type": "code",
      "source": [
        "#26: Write a code to create a list, a tuple, and a dictionary, and print them all.\n",
        "\n",
        "values_list = 1,2,3,4,5\n",
        "values_tuple = \"shivansh\",\"raj\",\"shivam\",\"asha\",\"anil\"\n",
        "\n",
        "#list\n",
        "print(list(values_list))\n",
        "\n",
        "#tuple\n",
        "print(tuple(values_tuple))\n",
        "\n",
        "#dictionary\n",
        "dictt = {}\n",
        "for key,value in zip(values_list,values_tuple):\n",
        "  dictt[key] = value\n",
        "print(dictt)\n",
        "\n"
      ],
      "metadata": {
        "id": "i8olfxnvroqx"
      },
      "execution_count": null,
      "outputs": []
    },
    {
      "cell_type": "code",
      "source": [
        "#27: Write a code to create a list of 5 random numbers between 1 and 100, sort it in ascending order, and print the\n",
        "#result.(replaced)\n",
        "\n",
        "import random\n",
        "\n",
        "\n",
        "rand_list = [ random.randint(1,100) for i in range(5)]\n",
        "print(rand_list)\n",
        "\n",
        "rand_list.sort()\n",
        "print(rand_list)\n"
      ],
      "metadata": {
        "id": "0UfQCMDvtCo7"
      },
      "execution_count": null,
      "outputs": []
    },
    {
      "cell_type": "code",
      "source": [
        "#28:  Write a code to create a list with strings and print the element at the third index.\n",
        "\n",
        "str_list = [\"apple\",\"orange\",\"mango\",\"kiwi\",\"grapes\"]\n",
        "print(str_list[3]) #3rd"
      ],
      "metadata": {
        "id": "4Oe_oRL9tyzk"
      },
      "execution_count": null,
      "outputs": []
    },
    {
      "cell_type": "code",
      "source": [
        "#29: Write a code to combine two dictionaries into one and print the result.\n",
        "\n",
        "dict1 = {'name': 'Alice','city': 'Paris'}\n",
        "dict2 = {'Name': 'Harry','City': 'Sultanpur'}\n",
        "\n",
        "dict1.update(dict2)  #update -> combines two dictionaries\n",
        "print(dict1)"
      ],
      "metadata": {
        "id": "PueeByAgwPWu"
      },
      "execution_count": null,
      "outputs": []
    },
    {
      "cell_type": "code",
      "source": [
        "#30: Write a code to convert a list of strings into a set.\n",
        "\n",
        "listt = [\"apple\",\"orange\",\"mango\",\"mango\" \"kiwi\",\"grapes\",\"apple\",\"orange\"]\n",
        "\n",
        "#converting into set\n",
        "sett = set(listt)\n",
        "print(sett)\n"
      ],
      "metadata": {
        "id": "Qzvo5tbDxST6"
      },
      "execution_count": null,
      "outputs": []
    }
  ]
}